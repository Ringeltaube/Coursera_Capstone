{
    "cells": [
        {
            "cell_type": "markdown",
            "metadata": {
                "collapsed": true
            },
            "source": "Notebook: Segmenting and Clustering Neighborhoods in Toronto"
        },
        {
            "cell_type": "code",
            "execution_count": 1,
            "metadata": {},
            "outputs": [
                {
                    "data": {
                        "text/html": "<div>\n<style scoped>\n    .dataframe tbody tr th:only-of-type {\n        vertical-align: middle;\n    }\n\n    .dataframe tbody tr th {\n        vertical-align: top;\n    }\n\n    .dataframe thead th {\n        text-align: right;\n    }\n</style>\n<table border=\"1\" class=\"dataframe\">\n  <thead>\n    <tr style=\"text-align: right;\">\n      <th></th>\n      <th>Postcode</th>\n      <th>Borough</th>\n      <th>Neighborhood</th>\n    </tr>\n  </thead>\n  <tbody>\n    <tr>\n      <th>0</th>\n      <td>M1A</td>\n      <td>Not assigned</td>\n      <td>Not assigned</td>\n    </tr>\n    <tr>\n      <th>1</th>\n      <td>M2A</td>\n      <td>Not assigned</td>\n      <td>Not assigned</td>\n    </tr>\n    <tr>\n      <th>2</th>\n      <td>M3A</td>\n      <td>North York</td>\n      <td>Parkwoods</td>\n    </tr>\n    <tr>\n      <th>3</th>\n      <td>M4A</td>\n      <td>North York</td>\n      <td>Victoria Village</td>\n    </tr>\n    <tr>\n      <th>4</th>\n      <td>M5A</td>\n      <td>Downtown Toronto</td>\n      <td>Harbourfront</td>\n    </tr>\n  </tbody>\n</table>\n</div>",
                        "text/plain": "  Postcode           Borough      Neighborhood\n0      M1A      Not assigned      Not assigned\n1      M2A      Not assigned      Not assigned\n2      M3A        North York         Parkwoods\n3      M4A        North York  Victoria Village\n4      M5A  Downtown Toronto      Harbourfront"
                    },
                    "execution_count": 1,
                    "metadata": {},
                    "output_type": "execute_result"
                }
            ],
            "source": "#Create dataframe\nimport pandas as pd\nimport requests\nfrom bs4 import BeautifulSoup\nfrom tabulate import tabulate\n\nres = requests.get('https://en.wikipedia.org/wiki/List_of_postal_codes_of_Canada:_M')\nsoup = BeautifulSoup(res.content,'lxml')\ntable = soup.find_all('table')[0] \ndf_0 = pd.read_html(str(table))\ndf_1 = df_0[0]\ndf_1.head()\n"
        },
        {
            "cell_type": "code",
            "execution_count": 2,
            "metadata": {},
            "outputs": [
                {
                    "data": {
                        "text/html": "<div>\n<style scoped>\n    .dataframe tbody tr th:only-of-type {\n        vertical-align: middle;\n    }\n\n    .dataframe tbody tr th {\n        vertical-align: top;\n    }\n\n    .dataframe thead th {\n        text-align: right;\n    }\n</style>\n<table border=\"1\" class=\"dataframe\">\n  <thead>\n    <tr style=\"text-align: right;\">\n      <th></th>\n      <th>Postcode</th>\n      <th>Borough</th>\n      <th>Neighborhood</th>\n    </tr>\n  </thead>\n  <tbody>\n    <tr>\n      <th>0</th>\n      <td>M1B</td>\n      <td>Scarborough</td>\n      <td>Rouge</td>\n    </tr>\n    <tr>\n      <th>1</th>\n      <td>M1B</td>\n      <td>Scarborough</td>\n      <td>Malvern</td>\n    </tr>\n    <tr>\n      <th>2</th>\n      <td>M1C</td>\n      <td>Scarborough</td>\n      <td>Highland Creek</td>\n    </tr>\n    <tr>\n      <th>3</th>\n      <td>M1C</td>\n      <td>Scarborough</td>\n      <td>Rouge Hill</td>\n    </tr>\n    <tr>\n      <th>4</th>\n      <td>M1C</td>\n      <td>Scarborough</td>\n      <td>Port Union</td>\n    </tr>\n    <tr>\n      <th>5</th>\n      <td>M1E</td>\n      <td>Scarborough</td>\n      <td>Guildwood</td>\n    </tr>\n    <tr>\n      <th>6</th>\n      <td>M1E</td>\n      <td>Scarborough</td>\n      <td>Morningside</td>\n    </tr>\n    <tr>\n      <th>7</th>\n      <td>M1E</td>\n      <td>Scarborough</td>\n      <td>West Hill</td>\n    </tr>\n    <tr>\n      <th>8</th>\n      <td>M1G</td>\n      <td>Scarborough</td>\n      <td>Woburn</td>\n    </tr>\n    <tr>\n      <th>9</th>\n      <td>M1H</td>\n      <td>Scarborough</td>\n      <td>Cedarbrae</td>\n    </tr>\n    <tr>\n      <th>10</th>\n      <td>M1J</td>\n      <td>Scarborough</td>\n      <td>Scarborough Village</td>\n    </tr>\n    <tr>\n      <th>11</th>\n      <td>M1K</td>\n      <td>Scarborough</td>\n      <td>East Birchmount Park</td>\n    </tr>\n    <tr>\n      <th>12</th>\n      <td>M1K</td>\n      <td>Scarborough</td>\n      <td>Ionview</td>\n    </tr>\n    <tr>\n      <th>13</th>\n      <td>M1K</td>\n      <td>Scarborough</td>\n      <td>Kennedy Park</td>\n    </tr>\n    <tr>\n      <th>14</th>\n      <td>M1L</td>\n      <td>Scarborough</td>\n      <td>Clairlea</td>\n    </tr>\n    <tr>\n      <th>15</th>\n      <td>M1L</td>\n      <td>Scarborough</td>\n      <td>Golden Mile</td>\n    </tr>\n    <tr>\n      <th>16</th>\n      <td>M1L</td>\n      <td>Scarborough</td>\n      <td>Oakridge</td>\n    </tr>\n    <tr>\n      <th>17</th>\n      <td>M1M</td>\n      <td>Scarborough</td>\n      <td>Cliffcrest</td>\n    </tr>\n    <tr>\n      <th>18</th>\n      <td>M1M</td>\n      <td>Scarborough</td>\n      <td>Cliffside</td>\n    </tr>\n    <tr>\n      <th>19</th>\n      <td>M1M</td>\n      <td>Scarborough</td>\n      <td>Scarborough Village West</td>\n    </tr>\n  </tbody>\n</table>\n</div>",
                        "text/plain": "   Postcode      Borough              Neighborhood\n0       M1B  Scarborough                     Rouge\n1       M1B  Scarborough                   Malvern\n2       M1C  Scarborough            Highland Creek\n3       M1C  Scarborough                Rouge Hill\n4       M1C  Scarborough                Port Union\n5       M1E  Scarborough                 Guildwood\n6       M1E  Scarborough               Morningside\n7       M1E  Scarborough                 West Hill\n8       M1G  Scarborough                    Woburn\n9       M1H  Scarborough                 Cedarbrae\n10      M1J  Scarborough       Scarborough Village\n11      M1K  Scarborough      East Birchmount Park\n12      M1K  Scarborough                   Ionview\n13      M1K  Scarborough              Kennedy Park\n14      M1L  Scarborough                  Clairlea\n15      M1L  Scarborough               Golden Mile\n16      M1L  Scarborough                  Oakridge\n17      M1M  Scarborough                Cliffcrest\n18      M1M  Scarborough                 Cliffside\n19      M1M  Scarborough  Scarborough Village West"
                    },
                    "execution_count": 2,
                    "metadata": {},
                    "output_type": "execute_result"
                }
            ],
            "source": "#Clean the dataframe 1. Only assigned Borough are kept.\n\ndf_2=df_1[df_1.Borough != 'Not assigned']\ndf_2 = df_2.sort_values(by=['Postcode','Borough'])\n\ndf_2.reset_index(inplace=True)\ndf_2.drop('index',axis=1,inplace=True)\n\ndf_2.head(20)\n"
        },
        {
            "cell_type": "code",
            "execution_count": 3,
            "metadata": {},
            "outputs": [
                {
                    "data": {
                        "text/html": "<div>\n<style scoped>\n    .dataframe tbody tr th:only-of-type {\n        vertical-align: middle;\n    }\n\n    .dataframe tbody tr th {\n        vertical-align: top;\n    }\n\n    .dataframe thead th {\n        text-align: right;\n    }\n</style>\n<table border=\"1\" class=\"dataframe\">\n  <thead>\n    <tr style=\"text-align: right;\">\n      <th></th>\n      <th>Postcode</th>\n      <th>Borough</th>\n      <th>Neighborhood</th>\n    </tr>\n  </thead>\n  <tbody>\n    <tr>\n      <th>0</th>\n      <td>M1B</td>\n      <td>Scarborough</td>\n      <td>Rouge</td>\n    </tr>\n    <tr>\n      <th>1</th>\n      <td>M1B</td>\n      <td>Scarborough</td>\n      <td>Malvern</td>\n    </tr>\n    <tr>\n      <th>2</th>\n      <td>M1C</td>\n      <td>Scarborough</td>\n      <td>Highland Creek</td>\n    </tr>\n    <tr>\n      <th>3</th>\n      <td>M1C</td>\n      <td>Scarborough</td>\n      <td>Rouge Hill</td>\n    </tr>\n    <tr>\n      <th>4</th>\n      <td>M1C</td>\n      <td>Scarborough</td>\n      <td>Port Union</td>\n    </tr>\n    <tr>\n      <th>5</th>\n      <td>M1E</td>\n      <td>Scarborough</td>\n      <td>Guildwood</td>\n    </tr>\n    <tr>\n      <th>6</th>\n      <td>M1E</td>\n      <td>Scarborough</td>\n      <td>Morningside</td>\n    </tr>\n    <tr>\n      <th>7</th>\n      <td>M1E</td>\n      <td>Scarborough</td>\n      <td>West Hill</td>\n    </tr>\n    <tr>\n      <th>8</th>\n      <td>M1G</td>\n      <td>Scarborough</td>\n      <td>Woburn</td>\n    </tr>\n    <tr>\n      <th>9</th>\n      <td>M1H</td>\n      <td>Scarborough</td>\n      <td>Cedarbrae</td>\n    </tr>\n    <tr>\n      <th>10</th>\n      <td>M1J</td>\n      <td>Scarborough</td>\n      <td>Scarborough Village</td>\n    </tr>\n    <tr>\n      <th>11</th>\n      <td>M1K</td>\n      <td>Scarborough</td>\n      <td>East Birchmount Park</td>\n    </tr>\n    <tr>\n      <th>12</th>\n      <td>M1K</td>\n      <td>Scarborough</td>\n      <td>Ionview</td>\n    </tr>\n    <tr>\n      <th>13</th>\n      <td>M1K</td>\n      <td>Scarborough</td>\n      <td>Kennedy Park</td>\n    </tr>\n    <tr>\n      <th>14</th>\n      <td>M1L</td>\n      <td>Scarborough</td>\n      <td>Clairlea</td>\n    </tr>\n    <tr>\n      <th>15</th>\n      <td>M1L</td>\n      <td>Scarborough</td>\n      <td>Golden Mile</td>\n    </tr>\n    <tr>\n      <th>16</th>\n      <td>M1L</td>\n      <td>Scarborough</td>\n      <td>Oakridge</td>\n    </tr>\n    <tr>\n      <th>17</th>\n      <td>M1M</td>\n      <td>Scarborough</td>\n      <td>Cliffcrest</td>\n    </tr>\n    <tr>\n      <th>18</th>\n      <td>M1M</td>\n      <td>Scarborough</td>\n      <td>Cliffside</td>\n    </tr>\n    <tr>\n      <th>19</th>\n      <td>M1M</td>\n      <td>Scarborough</td>\n      <td>Scarborough Village West</td>\n    </tr>\n    <tr>\n      <th>20</th>\n      <td>M1N</td>\n      <td>Scarborough</td>\n      <td>Birch Cliff</td>\n    </tr>\n    <tr>\n      <th>21</th>\n      <td>M1N</td>\n      <td>Scarborough</td>\n      <td>Cliffside West</td>\n    </tr>\n    <tr>\n      <th>22</th>\n      <td>M1P</td>\n      <td>Scarborough</td>\n      <td>Dorset Park</td>\n    </tr>\n    <tr>\n      <th>23</th>\n      <td>M1P</td>\n      <td>Scarborough</td>\n      <td>Scarborough Town Centre</td>\n    </tr>\n    <tr>\n      <th>24</th>\n      <td>M1P</td>\n      <td>Scarborough</td>\n      <td>Wexford Heights</td>\n    </tr>\n    <tr>\n      <th>25</th>\n      <td>M1R</td>\n      <td>Scarborough</td>\n      <td>Maryvale</td>\n    </tr>\n    <tr>\n      <th>26</th>\n      <td>M1R</td>\n      <td>Scarborough</td>\n      <td>Wexford</td>\n    </tr>\n    <tr>\n      <th>27</th>\n      <td>M1S</td>\n      <td>Scarborough</td>\n      <td>Agincourt</td>\n    </tr>\n    <tr>\n      <th>28</th>\n      <td>M1T</td>\n      <td>Scarborough</td>\n      <td>Clarks Corners</td>\n    </tr>\n    <tr>\n      <th>29</th>\n      <td>M1T</td>\n      <td>Scarborough</td>\n      <td>Sullivan</td>\n    </tr>\n    <tr>\n      <th>...</th>\n      <td>...</td>\n      <td>...</td>\n      <td>...</td>\n    </tr>\n    <tr>\n      <th>180</th>\n      <td>M8Z</td>\n      <td>Etobicoke</td>\n      <td>Royal York South West</td>\n    </tr>\n    <tr>\n      <th>181</th>\n      <td>M8Z</td>\n      <td>Etobicoke</td>\n      <td>South of Bloor</td>\n    </tr>\n    <tr>\n      <th>182</th>\n      <td>M9A</td>\n      <td>Queen's Park</td>\n      <td>Queen's Park</td>\n    </tr>\n    <tr>\n      <th>183</th>\n      <td>M9B</td>\n      <td>Etobicoke</td>\n      <td>Cloverdale</td>\n    </tr>\n    <tr>\n      <th>184</th>\n      <td>M9B</td>\n      <td>Etobicoke</td>\n      <td>Islington</td>\n    </tr>\n    <tr>\n      <th>185</th>\n      <td>M9B</td>\n      <td>Etobicoke</td>\n      <td>Martin Grove</td>\n    </tr>\n    <tr>\n      <th>186</th>\n      <td>M9B</td>\n      <td>Etobicoke</td>\n      <td>Princess Gardens</td>\n    </tr>\n    <tr>\n      <th>187</th>\n      <td>M9B</td>\n      <td>Etobicoke</td>\n      <td>West Deane Park</td>\n    </tr>\n    <tr>\n      <th>188</th>\n      <td>M9C</td>\n      <td>Etobicoke</td>\n      <td>Bloordale Gardens</td>\n    </tr>\n    <tr>\n      <th>189</th>\n      <td>M9C</td>\n      <td>Etobicoke</td>\n      <td>Eringate</td>\n    </tr>\n    <tr>\n      <th>190</th>\n      <td>M9C</td>\n      <td>Etobicoke</td>\n      <td>Markland Wood</td>\n    </tr>\n    <tr>\n      <th>191</th>\n      <td>M9C</td>\n      <td>Etobicoke</td>\n      <td>Old Burnhamthorpe</td>\n    </tr>\n    <tr>\n      <th>192</th>\n      <td>M9L</td>\n      <td>North York</td>\n      <td>Humber Summit</td>\n    </tr>\n    <tr>\n      <th>193</th>\n      <td>M9M</td>\n      <td>North York</td>\n      <td>Emery</td>\n    </tr>\n    <tr>\n      <th>194</th>\n      <td>M9M</td>\n      <td>North York</td>\n      <td>Humberlea</td>\n    </tr>\n    <tr>\n      <th>195</th>\n      <td>M9N</td>\n      <td>York</td>\n      <td>Weston</td>\n    </tr>\n    <tr>\n      <th>196</th>\n      <td>M9P</td>\n      <td>Etobicoke</td>\n      <td>Westmount</td>\n    </tr>\n    <tr>\n      <th>197</th>\n      <td>M9R</td>\n      <td>Etobicoke</td>\n      <td>Kingsview Village</td>\n    </tr>\n    <tr>\n      <th>198</th>\n      <td>M9R</td>\n      <td>Etobicoke</td>\n      <td>Martin Grove Gardens</td>\n    </tr>\n    <tr>\n      <th>199</th>\n      <td>M9R</td>\n      <td>Etobicoke</td>\n      <td>Richview Gardens</td>\n    </tr>\n    <tr>\n      <th>200</th>\n      <td>M9R</td>\n      <td>Etobicoke</td>\n      <td>St. Phillips</td>\n    </tr>\n    <tr>\n      <th>201</th>\n      <td>M9V</td>\n      <td>Etobicoke</td>\n      <td>Albion Gardens</td>\n    </tr>\n    <tr>\n      <th>202</th>\n      <td>M9V</td>\n      <td>Etobicoke</td>\n      <td>Beaumond Heights</td>\n    </tr>\n    <tr>\n      <th>203</th>\n      <td>M9V</td>\n      <td>Etobicoke</td>\n      <td>Humbergate</td>\n    </tr>\n    <tr>\n      <th>204</th>\n      <td>M9V</td>\n      <td>Etobicoke</td>\n      <td>Jamestown</td>\n    </tr>\n    <tr>\n      <th>205</th>\n      <td>M9V</td>\n      <td>Etobicoke</td>\n      <td>Mount Olive</td>\n    </tr>\n    <tr>\n      <th>206</th>\n      <td>M9V</td>\n      <td>Etobicoke</td>\n      <td>Silverstone</td>\n    </tr>\n    <tr>\n      <th>207</th>\n      <td>M9V</td>\n      <td>Etobicoke</td>\n      <td>South Steeles</td>\n    </tr>\n    <tr>\n      <th>208</th>\n      <td>M9V</td>\n      <td>Etobicoke</td>\n      <td>Thistletown</td>\n    </tr>\n    <tr>\n      <th>209</th>\n      <td>M9W</td>\n      <td>Etobicoke</td>\n      <td>Northwest</td>\n    </tr>\n  </tbody>\n</table>\n<p>210 rows \u00d7 3 columns</p>\n</div>",
                        "text/plain": "    Postcode       Borough              Neighborhood\n0        M1B   Scarborough                     Rouge\n1        M1B   Scarborough                   Malvern\n2        M1C   Scarborough            Highland Creek\n3        M1C   Scarborough                Rouge Hill\n4        M1C   Scarborough                Port Union\n5        M1E   Scarborough                 Guildwood\n6        M1E   Scarborough               Morningside\n7        M1E   Scarborough                 West Hill\n8        M1G   Scarborough                    Woburn\n9        M1H   Scarborough                 Cedarbrae\n10       M1J   Scarborough       Scarborough Village\n11       M1K   Scarborough      East Birchmount Park\n12       M1K   Scarborough                   Ionview\n13       M1K   Scarborough              Kennedy Park\n14       M1L   Scarborough                  Clairlea\n15       M1L   Scarborough               Golden Mile\n16       M1L   Scarborough                  Oakridge\n17       M1M   Scarborough                Cliffcrest\n18       M1M   Scarborough                 Cliffside\n19       M1M   Scarborough  Scarborough Village West\n20       M1N   Scarborough               Birch Cliff\n21       M1N   Scarborough            Cliffside West\n22       M1P   Scarborough               Dorset Park\n23       M1P   Scarborough   Scarborough Town Centre\n24       M1P   Scarborough           Wexford Heights\n25       M1R   Scarborough                  Maryvale\n26       M1R   Scarborough                   Wexford\n27       M1S   Scarborough                 Agincourt\n28       M1T   Scarborough            Clarks Corners\n29       M1T   Scarborough                  Sullivan\n..       ...           ...                       ...\n180      M8Z     Etobicoke     Royal York South West\n181      M8Z     Etobicoke            South of Bloor\n182      M9A  Queen's Park              Queen's Park\n183      M9B     Etobicoke                Cloverdale\n184      M9B     Etobicoke                 Islington\n185      M9B     Etobicoke              Martin Grove\n186      M9B     Etobicoke          Princess Gardens\n187      M9B     Etobicoke           West Deane Park\n188      M9C     Etobicoke         Bloordale Gardens\n189      M9C     Etobicoke                  Eringate\n190      M9C     Etobicoke             Markland Wood\n191      M9C     Etobicoke         Old Burnhamthorpe\n192      M9L    North York             Humber Summit\n193      M9M    North York                     Emery\n194      M9M    North York                 Humberlea\n195      M9N          York                    Weston\n196      M9P     Etobicoke                 Westmount\n197      M9R     Etobicoke         Kingsview Village\n198      M9R     Etobicoke      Martin Grove Gardens\n199      M9R     Etobicoke          Richview Gardens\n200      M9R     Etobicoke              St. Phillips\n201      M9V     Etobicoke            Albion Gardens\n202      M9V     Etobicoke          Beaumond Heights\n203      M9V     Etobicoke                Humbergate\n204      M9V     Etobicoke                 Jamestown\n205      M9V     Etobicoke               Mount Olive\n206      M9V     Etobicoke               Silverstone\n207      M9V     Etobicoke             South Steeles\n208      M9V     Etobicoke               Thistletown\n209      M9W     Etobicoke                 Northwest\n\n[210 rows x 3 columns]"
                    },
                    "execution_count": 3,
                    "metadata": {},
                    "output_type": "execute_result"
                }
            ],
            "source": "#Clean the dataframe. Replace not assigned Neighborhood\n\ndf_2['Neighborhood']=df_2['Neighborhood'].replace('Not assigned', df_2['Borough'])\ndf_2\n"
        },
        {
            "cell_type": "code",
            "execution_count": 4,
            "metadata": {},
            "outputs": [
                {
                    "data": {
                        "text/html": "<div>\n<style scoped>\n    .dataframe tbody tr th:only-of-type {\n        vertical-align: middle;\n    }\n\n    .dataframe tbody tr th {\n        vertical-align: top;\n    }\n\n    .dataframe thead th {\n        text-align: right;\n    }\n</style>\n<table border=\"1\" class=\"dataframe\">\n  <thead>\n    <tr style=\"text-align: right;\">\n      <th></th>\n      <th>Postcode</th>\n      <th>Borough</th>\n      <th>Neighborhood</th>\n    </tr>\n  </thead>\n  <tbody>\n    <tr>\n      <th>0</th>\n      <td>M1B</td>\n      <td>Scarborough</td>\n      <td>Rouge, Malvern</td>\n    </tr>\n    <tr>\n      <th>1</th>\n      <td>M1C</td>\n      <td>Scarborough</td>\n      <td>Highland Creek, Rouge Hill, Port Union</td>\n    </tr>\n    <tr>\n      <th>2</th>\n      <td>M1E</td>\n      <td>Scarborough</td>\n      <td>Guildwood, Morningside, West Hill</td>\n    </tr>\n    <tr>\n      <th>3</th>\n      <td>M1G</td>\n      <td>Scarborough</td>\n      <td>Woburn</td>\n    </tr>\n    <tr>\n      <th>4</th>\n      <td>M1H</td>\n      <td>Scarborough</td>\n      <td>Cedarbrae</td>\n    </tr>\n  </tbody>\n</table>\n</div>",
                        "text/plain": "  Postcode      Borough                            Neighborhood\n0      M1B  Scarborough                          Rouge, Malvern\n1      M1C  Scarborough  Highland Creek, Rouge Hill, Port Union\n2      M1E  Scarborough       Guildwood, Morningside, West Hill\n3      M1G  Scarborough                                  Woburn\n4      M1H  Scarborough                               Cedarbrae"
                    },
                    "execution_count": 4,
                    "metadata": {},
                    "output_type": "execute_result"
                }
            ],
            "source": "#group Postcode and Borough\n\ndf_3 = df_2.groupby(['Postcode', 'Borough'])['Neighborhood'].apply(', '.join).reset_index()\ndf_3.head()\n"
        },
        {
            "cell_type": "code",
            "execution_count": 5,
            "metadata": {},
            "outputs": [
                {
                    "data": {
                        "text/plain": "(103, 3)"
                    },
                    "execution_count": 5,
                    "metadata": {},
                    "output_type": "execute_result"
                }
            ],
            "source": "#Number of rows of the dataframe.\n\ndf_3.shape\n\n"
        },
        {
            "cell_type": "code",
            "execution_count": null,
            "metadata": {},
            "outputs": [],
            "source": ""
        }
    ],
    "metadata": {
        "kernelspec": {
            "display_name": "Python 3.6",
            "language": "python",
            "name": "python3"
        },
        "language_info": {
            "codemirror_mode": {
                "name": "ipython",
                "version": 3
            },
            "file_extension": ".py",
            "mimetype": "text/x-python",
            "name": "python",
            "nbconvert_exporter": "python",
            "pygments_lexer": "ipython3",
            "version": "3.6.8"
        }
    },
    "nbformat": 4,
    "nbformat_minor": 1
}